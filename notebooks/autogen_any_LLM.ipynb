{
 "cells": [
  {
   "cell_type": "code",
   "execution_count": 1,
   "metadata": {},
   "outputs": [
    {
     "name": "stdout",
     "output_type": "stream",
     "text": [
      "Requirement already satisfied: openai in /opt/homebrew/anaconda3/envs/vidhya-agents/lib/python3.11/site-packages (1.58.1)\n",
      "Collecting autogen\n",
      "  Downloading autogen-0.6.0-py3-none-any.whl.metadata (22 kB)\n",
      "Requirement already satisfied: requests in /opt/homebrew/anaconda3/envs/vidhya-agents/lib/python3.11/site-packages (2.32.3)\n",
      "Requirement already satisfied: anyio<5,>=3.5.0 in /opt/homebrew/anaconda3/envs/vidhya-agents/lib/python3.11/site-packages (from openai) (4.4.0)\n",
      "Requirement already satisfied: distro<2,>=1.7.0 in /opt/homebrew/anaconda3/envs/vidhya-agents/lib/python3.11/site-packages (from openai) (1.9.0)\n",
      "Requirement already satisfied: httpx<1,>=0.23.0 in /opt/homebrew/anaconda3/envs/vidhya-agents/lib/python3.11/site-packages (from openai) (0.27.2)\n",
      "Requirement already satisfied: jiter<1,>=0.4.0 in /opt/homebrew/anaconda3/envs/vidhya-agents/lib/python3.11/site-packages (from openai) (0.5.0)\n",
      "Requirement already satisfied: pydantic<3,>=1.9.0 in /opt/homebrew/anaconda3/envs/vidhya-agents/lib/python3.11/site-packages (from openai) (1.10.8)\n",
      "Requirement already satisfied: sniffio in /opt/homebrew/anaconda3/envs/vidhya-agents/lib/python3.11/site-packages (from openai) (1.3.1)\n",
      "Requirement already satisfied: tqdm>4 in /opt/homebrew/anaconda3/envs/vidhya-agents/lib/python3.11/site-packages (from openai) (4.66.5)\n",
      "Requirement already satisfied: typing-extensions<5,>=4.11 in /opt/homebrew/anaconda3/envs/vidhya-agents/lib/python3.11/site-packages (from openai) (4.12.2)\n",
      "Collecting pyautogen==0.6.0 (from autogen)\n",
      "  Downloading pyautogen-0.6.0-py3-none-any.whl.metadata (26 kB)\n",
      "Collecting asyncer>=0.0.8 (from pyautogen==0.6.0->autogen)\n",
      "  Downloading asyncer-0.0.8-py3-none-any.whl.metadata (6.7 kB)\n",
      "Requirement already satisfied: diskcache in /opt/homebrew/anaconda3/envs/vidhya-agents/lib/python3.11/site-packages (from pyautogen==0.6.0->autogen) (5.6.3)\n",
      "Requirement already satisfied: docker in /opt/homebrew/anaconda3/envs/vidhya-agents/lib/python3.11/site-packages (from pyautogen==0.6.0->autogen) (7.1.0)\n",
      "Requirement already satisfied: flaml in /opt/homebrew/anaconda3/envs/vidhya-agents/lib/python3.11/site-packages (from pyautogen==0.6.0->autogen) (2.2.0)\n",
      "Requirement already satisfied: packaging in /opt/homebrew/anaconda3/envs/vidhya-agents/lib/python3.11/site-packages (from pyautogen==0.6.0->autogen) (24.1)\n",
      "Requirement already satisfied: python-dotenv in /opt/homebrew/anaconda3/envs/vidhya-agents/lib/python3.11/site-packages (from pyautogen==0.6.0->autogen) (1.0.1)\n",
      "Requirement already satisfied: termcolor in /opt/homebrew/anaconda3/envs/vidhya-agents/lib/python3.11/site-packages (from pyautogen==0.6.0->autogen) (2.4.0)\n",
      "Requirement already satisfied: tiktoken in /opt/homebrew/anaconda3/envs/vidhya-agents/lib/python3.11/site-packages (from pyautogen==0.6.0->autogen) (0.7.0)\n",
      "Collecting websockets<15,>=14 (from pyautogen==0.6.0->autogen)\n",
      "  Downloading websockets-14.1-cp311-cp311-macosx_11_0_arm64.whl.metadata (6.7 kB)\n",
      "Requirement already satisfied: numpy<2.0.0,>=1.24.0 in /opt/homebrew/anaconda3/envs/vidhya-agents/lib/python3.11/site-packages (from pyautogen==0.6.0->autogen) (1.26.4)\n",
      "Requirement already satisfied: charset-normalizer<4,>=2 in /opt/homebrew/anaconda3/envs/vidhya-agents/lib/python3.11/site-packages (from requests) (3.3.2)\n",
      "Requirement already satisfied: idna<4,>=2.5 in /opt/homebrew/anaconda3/envs/vidhya-agents/lib/python3.11/site-packages (from requests) (3.8)\n",
      "Requirement already satisfied: urllib3<3,>=1.21.1 in /opt/homebrew/anaconda3/envs/vidhya-agents/lib/python3.11/site-packages (from requests) (2.2.2)\n",
      "Requirement already satisfied: certifi>=2017.4.17 in /opt/homebrew/anaconda3/envs/vidhya-agents/lib/python3.11/site-packages (from requests) (2024.8.30)\n",
      "Requirement already satisfied: httpcore==1.* in /opt/homebrew/anaconda3/envs/vidhya-agents/lib/python3.11/site-packages (from httpx<1,>=0.23.0->openai) (1.0.5)\n",
      "Requirement already satisfied: h11<0.15,>=0.13 in /opt/homebrew/anaconda3/envs/vidhya-agents/lib/python3.11/site-packages (from httpcore==1.*->httpx<1,>=0.23.0->openai) (0.14.0)\n",
      "Requirement already satisfied: regex>=2022.1.18 in /opt/homebrew/anaconda3/envs/vidhya-agents/lib/python3.11/site-packages (from tiktoken->pyautogen==0.6.0->autogen) (2024.7.24)\n",
      "Downloading autogen-0.6.0-py3-none-any.whl (13 kB)\n",
      "Downloading pyautogen-0.6.0-py3-none-any.whl (450 kB)\n",
      "Downloading asyncer-0.0.8-py3-none-any.whl (9.2 kB)\n",
      "Downloading websockets-14.1-cp311-cp311-macosx_11_0_arm64.whl (159 kB)\n",
      "Installing collected packages: websockets, asyncer, pyautogen, autogen\n",
      "  Attempting uninstall: websockets\n",
      "    Found existing installation: websockets 13.0.1\n",
      "    Uninstalling websockets-13.0.1:\n",
      "      Successfully uninstalled websockets-13.0.1\n",
      "  Attempting uninstall: pyautogen\n",
      "    Found existing installation: pyautogen 0.2.35\n",
      "    Uninstalling pyautogen-0.2.35:\n",
      "      Successfully uninstalled pyautogen-0.2.35\n",
      "Successfully installed asyncer-0.0.8 autogen-0.6.0 pyautogen-0.6.0 websockets-14.1\n"
     ]
    }
   ],
   "source": [
    "!pip install openai autogen requests\n"
   ]
  },
  {
   "cell_type": "code",
   "execution_count": null,
   "metadata": {},
   "outputs": [],
   "source": []
  }
 ],
 "metadata": {
  "kernelspec": {
   "display_name": "vidhya-agents",
   "language": "python",
   "name": "python3"
  },
  "language_info": {
   "codemirror_mode": {
    "name": "ipython",
    "version": 3
   },
   "file_extension": ".py",
   "mimetype": "text/x-python",
   "name": "python",
   "nbconvert_exporter": "python",
   "pygments_lexer": "ipython3",
   "version": "3.11.11"
  }
 },
 "nbformat": 4,
 "nbformat_minor": 2
}
