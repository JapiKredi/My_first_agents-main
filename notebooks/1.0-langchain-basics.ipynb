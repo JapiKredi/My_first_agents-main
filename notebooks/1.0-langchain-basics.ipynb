{
 "cells": [
  {
   "cell_type": "markdown",
   "metadata": {},
   "source": [
    "3 basic components:\n",
    "\n",
    "1. Model - abstractions over the LLMs apis\n",
    "2. Prompt Template - abstraction over the prompt sent to the model\n",
    "3. Output parser - abstraction to translate raw output from the model to workable format"
   ]
  },
  {
   "cell_type": "code",
   "execution_count": 1,
   "metadata": {},
   "outputs": [
    {
     "name": "stdout",
     "output_type": "stream",
     "text": [
      "Requirement already satisfied: langchain in /opt/homebrew/anaconda3/envs/vidhya-agents/lib/python3.11/site-packages (0.3.13)\n",
      "Requirement already satisfied: langchain-openai in /opt/homebrew/anaconda3/envs/vidhya-agents/lib/python3.11/site-packages (0.2.13)\n",
      "Requirement already satisfied: langchain-core in /opt/homebrew/anaconda3/envs/vidhya-agents/lib/python3.11/site-packages (0.3.27)\n",
      "Requirement already satisfied: PyYAML>=5.3 in /opt/homebrew/anaconda3/envs/vidhya-agents/lib/python3.11/site-packages (from langchain) (6.0.2)\n",
      "Requirement already satisfied: SQLAlchemy<3,>=1.4 in /opt/homebrew/anaconda3/envs/vidhya-agents/lib/python3.11/site-packages (from langchain) (2.0.32)\n",
      "Requirement already satisfied: aiohttp<4.0.0,>=3.8.3 in /opt/homebrew/anaconda3/envs/vidhya-agents/lib/python3.11/site-packages (from langchain) (3.10.5)\n",
      "Requirement already satisfied: langchain-text-splitters<0.4.0,>=0.3.3 in /opt/homebrew/anaconda3/envs/vidhya-agents/lib/python3.11/site-packages (from langchain) (0.3.4)\n",
      "Requirement already satisfied: langsmith<0.3,>=0.1.17 in /opt/homebrew/anaconda3/envs/vidhya-agents/lib/python3.11/site-packages (from langchain) (0.2.4)\n",
      "Requirement already satisfied: numpy<2,>=1.22.4 in /opt/homebrew/anaconda3/envs/vidhya-agents/lib/python3.11/site-packages (from langchain) (1.26.4)\n",
      "Requirement already satisfied: pydantic<3.0.0,>=2.7.4 in /opt/homebrew/anaconda3/envs/vidhya-agents/lib/python3.11/site-packages (from langchain) (2.8.2)\n",
      "Requirement already satisfied: requests<3,>=2 in /opt/homebrew/anaconda3/envs/vidhya-agents/lib/python3.11/site-packages (from langchain) (2.32.3)\n",
      "Requirement already satisfied: tenacity!=8.4.0,<10,>=8.1.0 in /opt/homebrew/anaconda3/envs/vidhya-agents/lib/python3.11/site-packages (from langchain) (8.5.0)\n",
      "Requirement already satisfied: openai<2.0.0,>=1.55.3 in /opt/homebrew/anaconda3/envs/vidhya-agents/lib/python3.11/site-packages (from langchain-openai) (1.58.1)\n",
      "Requirement already satisfied: tiktoken<1,>=0.7 in /opt/homebrew/anaconda3/envs/vidhya-agents/lib/python3.11/site-packages (from langchain-openai) (0.7.0)\n",
      "Requirement already satisfied: jsonpatch<2.0,>=1.33 in /opt/homebrew/anaconda3/envs/vidhya-agents/lib/python3.11/site-packages (from langchain-core) (1.33)\n",
      "Requirement already satisfied: packaging<25,>=23.2 in /opt/homebrew/anaconda3/envs/vidhya-agents/lib/python3.11/site-packages (from langchain-core) (24.1)\n",
      "Requirement already satisfied: typing-extensions>=4.7 in /opt/homebrew/anaconda3/envs/vidhya-agents/lib/python3.11/site-packages (from langchain-core) (4.12.2)\n",
      "Requirement already satisfied: aiohappyeyeballs>=2.3.0 in /opt/homebrew/anaconda3/envs/vidhya-agents/lib/python3.11/site-packages (from aiohttp<4.0.0,>=3.8.3->langchain) (2.4.0)\n",
      "Requirement already satisfied: aiosignal>=1.1.2 in /opt/homebrew/anaconda3/envs/vidhya-agents/lib/python3.11/site-packages (from aiohttp<4.0.0,>=3.8.3->langchain) (1.3.1)\n",
      "Requirement already satisfied: attrs>=17.3.0 in /opt/homebrew/anaconda3/envs/vidhya-agents/lib/python3.11/site-packages (from aiohttp<4.0.0,>=3.8.3->langchain) (24.2.0)\n",
      "Requirement already satisfied: frozenlist>=1.1.1 in /opt/homebrew/anaconda3/envs/vidhya-agents/lib/python3.11/site-packages (from aiohttp<4.0.0,>=3.8.3->langchain) (1.4.1)\n",
      "Requirement already satisfied: multidict<7.0,>=4.5 in /opt/homebrew/anaconda3/envs/vidhya-agents/lib/python3.11/site-packages (from aiohttp<4.0.0,>=3.8.3->langchain) (6.0.5)\n",
      "Requirement already satisfied: yarl<2.0,>=1.0 in /opt/homebrew/anaconda3/envs/vidhya-agents/lib/python3.11/site-packages (from aiohttp<4.0.0,>=3.8.3->langchain) (1.9.7)\n",
      "Requirement already satisfied: jsonpointer>=1.9 in /opt/homebrew/anaconda3/envs/vidhya-agents/lib/python3.11/site-packages (from jsonpatch<2.0,>=1.33->langchain-core) (3.0.0)\n",
      "Requirement already satisfied: httpx<1,>=0.23.0 in /opt/homebrew/anaconda3/envs/vidhya-agents/lib/python3.11/site-packages (from langsmith<0.3,>=0.1.17->langchain) (0.27.2)\n",
      "Requirement already satisfied: orjson<4.0.0,>=3.9.14 in /opt/homebrew/anaconda3/envs/vidhya-agents/lib/python3.11/site-packages (from langsmith<0.3,>=0.1.17->langchain) (3.10.7)\n",
      "Requirement already satisfied: requests-toolbelt<2.0.0,>=1.0.0 in /opt/homebrew/anaconda3/envs/vidhya-agents/lib/python3.11/site-packages (from langsmith<0.3,>=0.1.17->langchain) (1.0.0)\n",
      "Requirement already satisfied: anyio<5,>=3.5.0 in /opt/homebrew/anaconda3/envs/vidhya-agents/lib/python3.11/site-packages (from openai<2.0.0,>=1.55.3->langchain-openai) (4.4.0)\n",
      "Requirement already satisfied: distro<2,>=1.7.0 in /opt/homebrew/anaconda3/envs/vidhya-agents/lib/python3.11/site-packages (from openai<2.0.0,>=1.55.3->langchain-openai) (1.9.0)\n",
      "Requirement already satisfied: jiter<1,>=0.4.0 in /opt/homebrew/anaconda3/envs/vidhya-agents/lib/python3.11/site-packages (from openai<2.0.0,>=1.55.3->langchain-openai) (0.5.0)\n",
      "Requirement already satisfied: sniffio in /opt/homebrew/anaconda3/envs/vidhya-agents/lib/python3.11/site-packages (from openai<2.0.0,>=1.55.3->langchain-openai) (1.3.1)\n",
      "Requirement already satisfied: tqdm>4 in /opt/homebrew/anaconda3/envs/vidhya-agents/lib/python3.11/site-packages (from openai<2.0.0,>=1.55.3->langchain-openai) (4.66.5)\n",
      "Requirement already satisfied: annotated-types>=0.4.0 in /opt/homebrew/anaconda3/envs/vidhya-agents/lib/python3.11/site-packages (from pydantic<3.0.0,>=2.7.4->langchain) (0.7.0)\n",
      "Requirement already satisfied: pydantic-core==2.20.1 in /opt/homebrew/anaconda3/envs/vidhya-agents/lib/python3.11/site-packages (from pydantic<3.0.0,>=2.7.4->langchain) (2.20.1)\n",
      "Requirement already satisfied: charset-normalizer<4,>=2 in /opt/homebrew/anaconda3/envs/vidhya-agents/lib/python3.11/site-packages (from requests<3,>=2->langchain) (3.3.2)\n",
      "Requirement already satisfied: idna<4,>=2.5 in /opt/homebrew/anaconda3/envs/vidhya-agents/lib/python3.11/site-packages (from requests<3,>=2->langchain) (3.8)\n",
      "Requirement already satisfied: urllib3<3,>=1.21.1 in /opt/homebrew/anaconda3/envs/vidhya-agents/lib/python3.11/site-packages (from requests<3,>=2->langchain) (2.2.2)\n",
      "Requirement already satisfied: certifi>=2017.4.17 in /opt/homebrew/anaconda3/envs/vidhya-agents/lib/python3.11/site-packages (from requests<3,>=2->langchain) (2024.8.30)\n",
      "Requirement already satisfied: regex>=2022.1.18 in /opt/homebrew/anaconda3/envs/vidhya-agents/lib/python3.11/site-packages (from tiktoken<1,>=0.7->langchain-openai) (2024.7.24)\n",
      "Requirement already satisfied: httpcore==1.* in /opt/homebrew/anaconda3/envs/vidhya-agents/lib/python3.11/site-packages (from httpx<1,>=0.23.0->langsmith<0.3,>=0.1.17->langchain) (1.0.5)\n",
      "Requirement already satisfied: h11<0.15,>=0.13 in /opt/homebrew/anaconda3/envs/vidhya-agents/lib/python3.11/site-packages (from httpcore==1.*->httpx<1,>=0.23.0->langsmith<0.3,>=0.1.17->langchain) (0.14.0)\n"
     ]
    }
   ],
   "source": [
    "!pip install -U langchain langchain-openai langchain-core"
   ]
  },
  {
   "cell_type": "code",
   "execution_count": 2,
   "metadata": {},
   "outputs": [
    {
     "name": "stdout",
     "output_type": "stream",
     "text": [
      "Requirement already satisfied: langchain_openai in /opt/homebrew/anaconda3/envs/vidhya-agents/lib/python3.11/site-packages (0.2.13)\n",
      "Requirement already satisfied: langchain-core<0.4.0,>=0.3.27 in /opt/homebrew/anaconda3/envs/vidhya-agents/lib/python3.11/site-packages (from langchain_openai) (0.3.27)\n",
      "Requirement already satisfied: openai<2.0.0,>=1.55.3 in /opt/homebrew/anaconda3/envs/vidhya-agents/lib/python3.11/site-packages (from langchain_openai) (1.58.1)\n",
      "Requirement already satisfied: tiktoken<1,>=0.7 in /opt/homebrew/anaconda3/envs/vidhya-agents/lib/python3.11/site-packages (from langchain_openai) (0.7.0)\n",
      "Requirement already satisfied: PyYAML>=5.3 in /opt/homebrew/anaconda3/envs/vidhya-agents/lib/python3.11/site-packages (from langchain-core<0.4.0,>=0.3.27->langchain_openai) (6.0.2)\n",
      "Requirement already satisfied: jsonpatch<2.0,>=1.33 in /opt/homebrew/anaconda3/envs/vidhya-agents/lib/python3.11/site-packages (from langchain-core<0.4.0,>=0.3.27->langchain_openai) (1.33)\n",
      "Requirement already satisfied: langsmith<0.3,>=0.1.125 in /opt/homebrew/anaconda3/envs/vidhya-agents/lib/python3.11/site-packages (from langchain-core<0.4.0,>=0.3.27->langchain_openai) (0.2.4)\n",
      "Requirement already satisfied: packaging<25,>=23.2 in /opt/homebrew/anaconda3/envs/vidhya-agents/lib/python3.11/site-packages (from langchain-core<0.4.0,>=0.3.27->langchain_openai) (24.1)\n",
      "Requirement already satisfied: pydantic<3.0.0,>=2.5.2 in /opt/homebrew/anaconda3/envs/vidhya-agents/lib/python3.11/site-packages (from langchain-core<0.4.0,>=0.3.27->langchain_openai) (2.8.2)\n",
      "Requirement already satisfied: tenacity!=8.4.0,<10.0.0,>=8.1.0 in /opt/homebrew/anaconda3/envs/vidhya-agents/lib/python3.11/site-packages (from langchain-core<0.4.0,>=0.3.27->langchain_openai) (8.5.0)\n",
      "Requirement already satisfied: typing-extensions>=4.7 in /opt/homebrew/anaconda3/envs/vidhya-agents/lib/python3.11/site-packages (from langchain-core<0.4.0,>=0.3.27->langchain_openai) (4.12.2)\n",
      "Requirement already satisfied: anyio<5,>=3.5.0 in /opt/homebrew/anaconda3/envs/vidhya-agents/lib/python3.11/site-packages (from openai<2.0.0,>=1.55.3->langchain_openai) (4.4.0)\n",
      "Requirement already satisfied: distro<2,>=1.7.0 in /opt/homebrew/anaconda3/envs/vidhya-agents/lib/python3.11/site-packages (from openai<2.0.0,>=1.55.3->langchain_openai) (1.9.0)\n",
      "Requirement already satisfied: httpx<1,>=0.23.0 in /opt/homebrew/anaconda3/envs/vidhya-agents/lib/python3.11/site-packages (from openai<2.0.0,>=1.55.3->langchain_openai) (0.27.2)\n",
      "Requirement already satisfied: jiter<1,>=0.4.0 in /opt/homebrew/anaconda3/envs/vidhya-agents/lib/python3.11/site-packages (from openai<2.0.0,>=1.55.3->langchain_openai) (0.5.0)\n",
      "Requirement already satisfied: sniffio in /opt/homebrew/anaconda3/envs/vidhya-agents/lib/python3.11/site-packages (from openai<2.0.0,>=1.55.3->langchain_openai) (1.3.1)\n",
      "Requirement already satisfied: tqdm>4 in /opt/homebrew/anaconda3/envs/vidhya-agents/lib/python3.11/site-packages (from openai<2.0.0,>=1.55.3->langchain_openai) (4.66.5)\n",
      "Requirement already satisfied: regex>=2022.1.18 in /opt/homebrew/anaconda3/envs/vidhya-agents/lib/python3.11/site-packages (from tiktoken<1,>=0.7->langchain_openai) (2024.7.24)\n",
      "Requirement already satisfied: requests>=2.26.0 in /opt/homebrew/anaconda3/envs/vidhya-agents/lib/python3.11/site-packages (from tiktoken<1,>=0.7->langchain_openai) (2.32.3)\n",
      "Requirement already satisfied: idna>=2.8 in /opt/homebrew/anaconda3/envs/vidhya-agents/lib/python3.11/site-packages (from anyio<5,>=3.5.0->openai<2.0.0,>=1.55.3->langchain_openai) (3.8)\n",
      "Requirement already satisfied: certifi in /opt/homebrew/anaconda3/envs/vidhya-agents/lib/python3.11/site-packages (from httpx<1,>=0.23.0->openai<2.0.0,>=1.55.3->langchain_openai) (2024.8.30)\n",
      "Requirement already satisfied: httpcore==1.* in /opt/homebrew/anaconda3/envs/vidhya-agents/lib/python3.11/site-packages (from httpx<1,>=0.23.0->openai<2.0.0,>=1.55.3->langchain_openai) (1.0.5)\n",
      "Requirement already satisfied: h11<0.15,>=0.13 in /opt/homebrew/anaconda3/envs/vidhya-agents/lib/python3.11/site-packages (from httpcore==1.*->httpx<1,>=0.23.0->openai<2.0.0,>=1.55.3->langchain_openai) (0.14.0)\n",
      "Requirement already satisfied: jsonpointer>=1.9 in /opt/homebrew/anaconda3/envs/vidhya-agents/lib/python3.11/site-packages (from jsonpatch<2.0,>=1.33->langchain-core<0.4.0,>=0.3.27->langchain_openai) (3.0.0)\n",
      "Requirement already satisfied: orjson<4.0.0,>=3.9.14 in /opt/homebrew/anaconda3/envs/vidhya-agents/lib/python3.11/site-packages (from langsmith<0.3,>=0.1.125->langchain-core<0.4.0,>=0.3.27->langchain_openai) (3.10.7)\n",
      "Requirement already satisfied: requests-toolbelt<2.0.0,>=1.0.0 in /opt/homebrew/anaconda3/envs/vidhya-agents/lib/python3.11/site-packages (from langsmith<0.3,>=0.1.125->langchain-core<0.4.0,>=0.3.27->langchain_openai) (1.0.0)\n",
      "Requirement already satisfied: annotated-types>=0.4.0 in /opt/homebrew/anaconda3/envs/vidhya-agents/lib/python3.11/site-packages (from pydantic<3.0.0,>=2.5.2->langchain-core<0.4.0,>=0.3.27->langchain_openai) (0.7.0)\n",
      "Requirement already satisfied: pydantic-core==2.20.1 in /opt/homebrew/anaconda3/envs/vidhya-agents/lib/python3.11/site-packages (from pydantic<3.0.0,>=2.5.2->langchain-core<0.4.0,>=0.3.27->langchain_openai) (2.20.1)\n",
      "Requirement already satisfied: charset-normalizer<4,>=2 in /opt/homebrew/anaconda3/envs/vidhya-agents/lib/python3.11/site-packages (from requests>=2.26.0->tiktoken<1,>=0.7->langchain_openai) (3.3.2)\n",
      "Requirement already satisfied: urllib3<3,>=1.21.1 in /opt/homebrew/anaconda3/envs/vidhya-agents/lib/python3.11/site-packages (from requests>=2.26.0->tiktoken<1,>=0.7->langchain_openai) (2.2.2)\n"
     ]
    }
   ],
   "source": [
    "!pip install langchain_openai"
   ]
  },
  {
   "cell_type": "code",
   "execution_count": 3,
   "metadata": {},
   "outputs": [
    {
     "name": "stdout",
     "output_type": "stream",
     "text": [
      "/opt/homebrew/anaconda3/envs/vidhya-agents/bin/python\n"
     ]
    }
   ],
   "source": [
    "import sys\n",
    "print(sys.executable)"
   ]
  },
  {
   "cell_type": "code",
   "execution_count": 4,
   "metadata": {},
   "outputs": [
    {
     "name": "stdout",
     "output_type": "stream",
     "text": [
      "Requirement already satisfied: ipykernel in /opt/homebrew/anaconda3/envs/vidhya-agents/lib/python3.11/site-packages (6.29.5)\n",
      "Requirement already satisfied: appnope in /opt/homebrew/anaconda3/envs/vidhya-agents/lib/python3.11/site-packages (from ipykernel) (0.1.4)\n",
      "Requirement already satisfied: comm>=0.1.1 in /opt/homebrew/anaconda3/envs/vidhya-agents/lib/python3.11/site-packages (from ipykernel) (0.2.2)\n",
      "Requirement already satisfied: debugpy>=1.6.5 in /opt/homebrew/anaconda3/envs/vidhya-agents/lib/python3.11/site-packages (from ipykernel) (1.8.5)\n",
      "Requirement already satisfied: ipython>=7.23.1 in /opt/homebrew/anaconda3/envs/vidhya-agents/lib/python3.11/site-packages (from ipykernel) (8.27.0)\n",
      "Requirement already satisfied: jupyter-client>=6.1.12 in /opt/homebrew/anaconda3/envs/vidhya-agents/lib/python3.11/site-packages (from ipykernel) (8.6.2)\n",
      "Requirement already satisfied: jupyter-core!=5.0.*,>=4.12 in /opt/homebrew/anaconda3/envs/vidhya-agents/lib/python3.11/site-packages (from ipykernel) (5.7.2)\n",
      "Requirement already satisfied: matplotlib-inline>=0.1 in /opt/homebrew/anaconda3/envs/vidhya-agents/lib/python3.11/site-packages (from ipykernel) (0.1.7)\n",
      "Requirement already satisfied: nest-asyncio in /opt/homebrew/anaconda3/envs/vidhya-agents/lib/python3.11/site-packages (from ipykernel) (1.6.0)\n",
      "Requirement already satisfied: packaging in /opt/homebrew/anaconda3/envs/vidhya-agents/lib/python3.11/site-packages (from ipykernel) (24.1)\n",
      "Requirement already satisfied: psutil in /opt/homebrew/anaconda3/envs/vidhya-agents/lib/python3.11/site-packages (from ipykernel) (6.0.0)\n",
      "Requirement already satisfied: pyzmq>=24 in /opt/homebrew/anaconda3/envs/vidhya-agents/lib/python3.11/site-packages (from ipykernel) (26.2.0)\n",
      "Requirement already satisfied: tornado>=6.1 in /opt/homebrew/anaconda3/envs/vidhya-agents/lib/python3.11/site-packages (from ipykernel) (6.4.1)\n",
      "Requirement already satisfied: traitlets>=5.4.0 in /opt/homebrew/anaconda3/envs/vidhya-agents/lib/python3.11/site-packages (from ipykernel) (5.14.3)\n",
      "Requirement already satisfied: decorator in /opt/homebrew/anaconda3/envs/vidhya-agents/lib/python3.11/site-packages (from ipython>=7.23.1->ipykernel) (5.1.1)\n",
      "Requirement already satisfied: jedi>=0.16 in /opt/homebrew/anaconda3/envs/vidhya-agents/lib/python3.11/site-packages (from ipython>=7.23.1->ipykernel) (0.19.1)\n",
      "Requirement already satisfied: prompt-toolkit<3.1.0,>=3.0.41 in /opt/homebrew/anaconda3/envs/vidhya-agents/lib/python3.11/site-packages (from ipython>=7.23.1->ipykernel) (3.0.47)\n",
      "Requirement already satisfied: pygments>=2.4.0 in /opt/homebrew/anaconda3/envs/vidhya-agents/lib/python3.11/site-packages (from ipython>=7.23.1->ipykernel) (2.18.0)\n",
      "Requirement already satisfied: stack-data in /opt/homebrew/anaconda3/envs/vidhya-agents/lib/python3.11/site-packages (from ipython>=7.23.1->ipykernel) (0.6.3)\n",
      "Requirement already satisfied: typing-extensions>=4.6 in /opt/homebrew/anaconda3/envs/vidhya-agents/lib/python3.11/site-packages (from ipython>=7.23.1->ipykernel) (4.12.2)\n",
      "Requirement already satisfied: pexpect>4.3 in /opt/homebrew/anaconda3/envs/vidhya-agents/lib/python3.11/site-packages (from ipython>=7.23.1->ipykernel) (4.9.0)\n",
      "Requirement already satisfied: python-dateutil>=2.8.2 in /opt/homebrew/anaconda3/envs/vidhya-agents/lib/python3.11/site-packages (from jupyter-client>=6.1.12->ipykernel) (2.9.0.post0)\n",
      "Requirement already satisfied: platformdirs>=2.5 in /opt/homebrew/anaconda3/envs/vidhya-agents/lib/python3.11/site-packages (from jupyter-core!=5.0.*,>=4.12->ipykernel) (4.2.2)\n",
      "Requirement already satisfied: parso<0.9.0,>=0.8.3 in /opt/homebrew/anaconda3/envs/vidhya-agents/lib/python3.11/site-packages (from jedi>=0.16->ipython>=7.23.1->ipykernel) (0.8.4)\n",
      "Requirement already satisfied: ptyprocess>=0.5 in /opt/homebrew/anaconda3/envs/vidhya-agents/lib/python3.11/site-packages (from pexpect>4.3->ipython>=7.23.1->ipykernel) (0.7.0)\n",
      "Requirement already satisfied: wcwidth in /opt/homebrew/anaconda3/envs/vidhya-agents/lib/python3.11/site-packages (from prompt-toolkit<3.1.0,>=3.0.41->ipython>=7.23.1->ipykernel) (0.2.13)\n",
      "Requirement already satisfied: six>=1.5 in /opt/homebrew/anaconda3/envs/vidhya-agents/lib/python3.11/site-packages (from python-dateutil>=2.8.2->jupyter-client>=6.1.12->ipykernel) (1.16.0)\n",
      "Requirement already satisfied: executing>=1.2.0 in /opt/homebrew/anaconda3/envs/vidhya-agents/lib/python3.11/site-packages (from stack-data->ipython>=7.23.1->ipykernel) (2.1.0)\n",
      "Requirement already satisfied: asttokens>=2.1.0 in /opt/homebrew/anaconda3/envs/vidhya-agents/lib/python3.11/site-packages (from stack-data->ipython>=7.23.1->ipykernel) (2.4.1)\n",
      "Requirement already satisfied: pure-eval in /opt/homebrew/anaconda3/envs/vidhya-agents/lib/python3.11/site-packages (from stack-data->ipython>=7.23.1->ipykernel) (0.2.3)\n"
     ]
    }
   ],
   "source": [
    "!pip install ipykernel"
   ]
  },
  {
   "cell_type": "code",
   "execution_count": 5,
   "metadata": {},
   "outputs": [
    {
     "name": "stdout",
     "output_type": "stream",
     "text": [
      "Requirement already satisfied: python-dotenv in /opt/homebrew/anaconda3/envs/vidhya-agents/lib/python3.11/site-packages (1.0.1)\n"
     ]
    }
   ],
   "source": [
    "!pip install python-dotenv"
   ]
  },
  {
   "cell_type": "code",
   "execution_count": 8,
   "metadata": {},
   "outputs": [],
   "source": [
    "from dotenv import load_dotenv\n",
    "\n",
    "# Load environment variables from .env file\n",
    "load_dotenv('/Users/jasper/Downloads/My_first_agents-main/notebooks/.env')\n",
    "\n",
    "# Verify that the API key is loaded\n",
    "api_key = os.getenv('OPENAI_API_KEY')"
   ]
  },
  {
   "cell_type": "code",
   "execution_count": 9,
   "metadata": {},
   "outputs": [
    {
     "name": "stdout",
     "output_type": "stream",
     "text": [
      "content=\"Sure! Here are some of the basic components in LangChain:\\n\\n- **Chains**: A sequence of calls to language models, tools, or other chains, enabling complex workflows.\\n\\n- **Agents**: Components that use language models to make decisions about which actions to take based on user input or other data.\\n\\n- **Tools**: External utilities or APIs that can be integrated into LangChain to extend its functionality, such as calculators or web scraping tools.\\n\\n- **Memory**: Mechanisms to retain information across interactions, allowing for a more context-aware and personalized user experience.\\n\\n- **Prompts**: Templates or structures for querying language models, helping to guide the model's responses.\\n\\n- **Document Loaders**: Utilities for ingesting and processing various types of documents or data sources.\\n\\nThese components work together to enable the development of advanced applications using language models.\" additional_kwargs={'refusal': None} response_metadata={'token_usage': {'completion_tokens': 173, 'prompt_tokens': 35, 'total_tokens': 208, 'completion_tokens_details': {'accepted_prediction_tokens': 0, 'audio_tokens': 0, 'reasoning_tokens': 0, 'rejected_prediction_tokens': 0}, 'prompt_tokens_details': {'audio_tokens': 0, 'cached_tokens': 0}}, 'model_name': 'gpt-4o-mini-2024-07-18', 'system_fingerprint': 'fp_6fc10e10eb', 'finish_reason': 'stop', 'logprobs': None} id='run-e1a9d0c2-3dba-4626-a2f8-7ce4b4400c49-0' usage_metadata={'input_tokens': 35, 'output_tokens': 173, 'total_tokens': 208, 'input_token_details': {'audio': 0, 'cache_read': 0}, 'output_token_details': {'audio': 0, 'reasoning': 0}}\n"
     ]
    }
   ],
   "source": [
    "# Use the API key with ChatOpenAI\n",
    "from langchain_openai import ChatOpenAI\n",
    "\n",
    "llm = ChatOpenAI(model='gpt-4o-mini', api_key=api_key)\n",
    "response = llm.invoke(\"Hi! I am teaching about langcahin! What are some of the basic components in LangChain? Answer with a few bullet points.\")\n",
    "print(response)"
   ]
  },
  {
   "cell_type": "code",
   "execution_count": 10,
   "metadata": {},
   "outputs": [
    {
     "name": "stdout",
     "output_type": "stream",
     "text": [
      "Requirement already satisfied: annotated_types in /opt/homebrew/anaconda3/envs/vidhya-agents/lib/python3.11/site-packages (0.7.0)\n"
     ]
    }
   ],
   "source": [
    "!pip install annotated_types"
   ]
  },
  {
   "cell_type": "code",
   "execution_count": 11,
   "metadata": {},
   "outputs": [
    {
     "name": "stdout",
     "output_type": "stream",
     "text": [
      "annotated_types is installed.\n"
     ]
    }
   ],
   "source": [
    "# Check if annotated_types is installed\n",
    "try:\n",
    "    import annotated_types\n",
    "    print(\"annotated_types is installed.\")\n",
    "except ImportError:\n",
    "    print(\"annotated_types is NOT installed.\")"
   ]
  },
  {
   "cell_type": "code",
   "execution_count": 12,
   "metadata": {},
   "outputs": [],
   "source": [
    "from langchain_openai import ChatOpenAI"
   ]
  },
  {
   "cell_type": "code",
   "execution_count": 13,
   "metadata": {},
   "outputs": [
    {
     "data": {
      "text/plain": [
       "AIMessage(content='Sure! Here are some of the basic components of LangChain:\\n\\n- **Chains**: Sequences of calls that can be composed to create complex workflows. Chains can include a series of prompts, function calls, and models.\\n\\n- **Agents**: Components that can decide which actions to take based on user input. Agents use tools to interact with the environment and can perform tasks dynamically.\\n\\n- **Prompts**: Templates that define how to interact with language models. They guide the model in generating responses based on specific input.\\n\\n- **Memory**: Mechanisms that allow chains or agents to remember information between interactions, enabling more context-aware responses.\\n\\n- **Tools**: External functionalities or APIs that can be integrated into agents and chains to enhance their capabilities, such as web searches or database queries.\\n\\n- **Document Loaders**: Modules for loading and processing documents from various sources (e.g., PDFs, CSVs) to make them usable within the LangChain framework.\\n\\n- **Output Parsers**: Components that interpret and format the output generated by models, allowing for easier integration with other systems or user interfaces.\\n\\nThese components work together to create powerful applications that leverage language models effectively.', additional_kwargs={'refusal': None}, response_metadata={'token_usage': {'completion_tokens': 237, 'prompt_tokens': 35, 'total_tokens': 272, 'completion_tokens_details': {'accepted_prediction_tokens': 0, 'audio_tokens': 0, 'reasoning_tokens': 0, 'rejected_prediction_tokens': 0}, 'prompt_tokens_details': {'audio_tokens': 0, 'cached_tokens': 0}}, 'model_name': 'gpt-4o-mini-2024-07-18', 'system_fingerprint': 'fp_0aa8d3e20b', 'finish_reason': 'stop', 'logprobs': None}, id='run-fe61d830-d123-49b6-9e49-2907ce5d0f80-0', usage_metadata={'input_tokens': 35, 'output_tokens': 237, 'total_tokens': 272, 'input_token_details': {'audio': 0, 'cache_read': 0}, 'output_token_details': {'audio': 0, 'reasoning': 0}})"
      ]
     },
     "execution_count": 13,
     "metadata": {},
     "output_type": "execute_result"
    }
   ],
   "source": [
    "llm = ChatOpenAI(model='gpt-4o-mini')\n",
    "llm = ChatOpenAI(model='gpt-4o-mini', api_key=api_key)\n",
    "\n",
    "llm.invoke(\"Hi! I am teaching about langcahin! What are some of the basic components in LangChain? Answer with a few bullet points.\")"
   ]
  },
  {
   "cell_type": "code",
   "execution_count": 14,
   "metadata": {},
   "outputs": [],
   "source": [
    "from langchain_core.prompts import ChatPromptTemplate"
   ]
  },
  {
   "cell_type": "code",
   "execution_count": 15,
   "metadata": {},
   "outputs": [
    {
     "data": {
      "text/plain": [
       "'Human: Give me 5 examples of: basic components in LangChain'"
      ]
     },
     "execution_count": 15,
     "metadata": {},
     "output_type": "execute_result"
    }
   ],
   "source": [
    "prompt = ChatPromptTemplate.from_template(\"Give me 5 examples of: {thing_to_give_examples_of}\")\n",
    "\n",
    "prompt.format(thing_to_give_examples_of=\"basic components in LangChain\")"
   ]
  },
  {
   "cell_type": "code",
   "execution_count": 16,
   "metadata": {},
   "outputs": [],
   "source": [
    "basic_chain = prompt | llm"
   ]
  },
  {
   "cell_type": "code",
   "execution_count": 17,
   "metadata": {},
   "outputs": [
    {
     "data": {
      "text/plain": [
       "AIMessage(content=\"LangChain is a framework designed to facilitate the development of applications using language models. Here are five basic components commonly found in LangChain:\\n\\n1. **LLMs (Language Model APIs)**: These are the core components that provide access to various language models, such as OpenAI's GPT-3 or other similar models. They allow you to generate text, answer questions, or perform other language-related tasks.\\n\\n2. **Chains**: Chains are sequences of operations that define how inputs are processed through one or more language models and other components. They can be linear or more complex, enabling developers to create workflows that involve multiple steps.\\n\\n3. **Prompts**: Prompts are templates or queries that are used to instruct the language model on what kind of output is desired. They can be static or dynamically generated based on user input or other data.\\n\\n4. **Agents**: Agents are components that enable the model to make decisions about which action to take based on the input it receives. They can utilize tools, call APIs, or execute specific functions to achieve the desired outcome.\\n\\n5. **Memory**: Memory components allow the language model to retain context or information across interactions. This helps in maintaining continuity in conversations or tasks, enabling more coherent and context-aware responses.\\n\\nThese components work together to create powerful and flexible applications that leverage the capabilities of language models.\", additional_kwargs={'refusal': None}, response_metadata={'token_usage': {'completion_tokens': 272, 'prompt_tokens': 19, 'total_tokens': 291, 'completion_tokens_details': {'accepted_prediction_tokens': 0, 'audio_tokens': 0, 'reasoning_tokens': 0, 'rejected_prediction_tokens': 0}, 'prompt_tokens_details': {'audio_tokens': 0, 'cached_tokens': 0}}, 'model_name': 'gpt-4o-mini-2024-07-18', 'system_fingerprint': 'fp_6fc10e10eb', 'finish_reason': 'stop', 'logprobs': None}, id='run-686ebe9f-5b6b-4a48-af2f-aa1924536da9-0', usage_metadata={'input_tokens': 19, 'output_tokens': 272, 'total_tokens': 291, 'input_token_details': {'audio': 0, 'cache_read': 0}, 'output_token_details': {'audio': 0, 'reasoning': 0}})"
      ]
     },
     "execution_count": 17,
     "metadata": {},
     "output_type": "execute_result"
    }
   ],
   "source": [
    "basic_chain.invoke({\"thing_to_give_examples_of\": \"basic components in LangChain\"})"
   ]
  },
  {
   "cell_type": "code",
   "execution_count": 18,
   "metadata": {},
   "outputs": [],
   "source": [
    "from langchain_core.output_parsers import StrOutputParser"
   ]
  },
  {
   "cell_type": "code",
   "execution_count": 19,
   "metadata": {},
   "outputs": [
    {
     "data": {
      "text/plain": [
       "'Sure! Here are five examples of funny animals that are often featured in humorous situations or videos:\\n\\n1. **Cats in Boxes** - Cats have a hilarious tendency to squeeze themselves into boxes or small spaces, no matter how impractical. Their puzzled expressions and awkward contortions often lead to funny moments.\\n\\n2. **Dogs with \"Guilty\" Faces** - Dogs have a knack for looking incredibly guilty after they\\'ve done something they shouldn\\'t, like chewing a shoe or getting into the trash. Their sad eyes and droopy ears create a comical contrast to their mischievous behavior.\\n\\n3. **Penguins Sliding on Ice** - Penguins are known for their waddle, but when they slide on their bellies across the ice, it creates a delightful and funny sight. Their clumsy antics often make people laugh.\\n\\n4. **Goats in Pajamas** - Goats are naturally curious and playful animals. When dressed in silly outfits like pajamas, their antics can be even more amusing, especially when they jump around or try to climb on things.\\n\\n5. **Parrots Mimicking Sounds** - Parrots are famous for their ability to mimic human speech and other sounds. Their comedic timing and ability to say unexpected phrases can lead to many funny and entertaining moments.\\n\\nThese animals often bring joy and laughter with their antics!'"
      ]
     },
     "execution_count": 19,
     "metadata": {},
     "output_type": "execute_result"
    }
   ],
   "source": [
    "output_parser = StrOutputParser()\n",
    "\n",
    "complete_chain = prompt | llm | output_parser\n",
    "\n",
    "complete_chain.invoke({'thing_to_give_examples_of': 'Funny animals'})"
   ]
  },
  {
   "cell_type": "code",
   "execution_count": null,
   "metadata": {},
   "outputs": [],
   "source": []
  }
 ],
 "metadata": {
  "kernelspec": {
   "display_name": "vidhya-agents",
   "language": "python",
   "name": "python3"
  },
  "language_info": {
   "codemirror_mode": {
    "name": "ipython",
    "version": 3
   },
   "file_extension": ".py",
   "mimetype": "text/x-python",
   "name": "python",
   "nbconvert_exporter": "python",
   "pygments_lexer": "ipython3",
   "version": "3.11.11"
  }
 },
 "nbformat": 4,
 "nbformat_minor": 2
}
