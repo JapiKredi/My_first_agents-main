{
 "cells": [
  {
   "cell_type": "markdown",
   "metadata": {},
   "source": [
    "- How do we put these 3 chains together as one?\n",
    "\n",
    "- What is a chain under the hood?\n",
    "\n",
    "- Runnables in LangChain"
   ]
  },
  {
   "cell_type": "code",
   "execution_count": 1,
   "metadata": {},
   "outputs": [
    {
     "name": "stdout",
     "output_type": "stream",
     "text": [
      "Requirement already satisfied: langchain in /opt/homebrew/anaconda3/envs/vidhya-agents/lib/python3.11/site-packages (0.3.13)\n",
      "Requirement already satisfied: langchain-openai in /opt/homebrew/anaconda3/envs/vidhya-agents/lib/python3.11/site-packages (0.2.13)\n",
      "Requirement already satisfied: langchain-core in /opt/homebrew/anaconda3/envs/vidhya-agents/lib/python3.11/site-packages (0.3.27)\n",
      "Requirement already satisfied: PyYAML>=5.3 in /opt/homebrew/anaconda3/envs/vidhya-agents/lib/python3.11/site-packages (from langchain) (6.0.2)\n",
      "Requirement already satisfied: SQLAlchemy<3,>=1.4 in /opt/homebrew/anaconda3/envs/vidhya-agents/lib/python3.11/site-packages (from langchain) (2.0.32)\n",
      "Requirement already satisfied: aiohttp<4.0.0,>=3.8.3 in /opt/homebrew/anaconda3/envs/vidhya-agents/lib/python3.11/site-packages (from langchain) (3.10.5)\n",
      "Requirement already satisfied: langchain-text-splitters<0.4.0,>=0.3.3 in /opt/homebrew/anaconda3/envs/vidhya-agents/lib/python3.11/site-packages (from langchain) (0.3.4)\n",
      "Requirement already satisfied: langsmith<0.3,>=0.1.17 in /opt/homebrew/anaconda3/envs/vidhya-agents/lib/python3.11/site-packages (from langchain) (0.2.4)\n",
      "Requirement already satisfied: numpy<2,>=1.22.4 in /opt/homebrew/anaconda3/envs/vidhya-agents/lib/python3.11/site-packages (from langchain) (1.26.4)\n",
      "Requirement already satisfied: pydantic<3.0.0,>=2.7.4 in /opt/homebrew/anaconda3/envs/vidhya-agents/lib/python3.11/site-packages (from langchain) (2.8.2)\n",
      "Requirement already satisfied: requests<3,>=2 in /opt/homebrew/anaconda3/envs/vidhya-agents/lib/python3.11/site-packages (from langchain) (2.32.3)\n",
      "Requirement already satisfied: tenacity!=8.4.0,<10,>=8.1.0 in /opt/homebrew/anaconda3/envs/vidhya-agents/lib/python3.11/site-packages (from langchain) (8.5.0)\n",
      "Requirement already satisfied: openai<2.0.0,>=1.55.3 in /opt/homebrew/anaconda3/envs/vidhya-agents/lib/python3.11/site-packages (from langchain-openai) (1.58.1)\n",
      "Requirement already satisfied: tiktoken<1,>=0.7 in /opt/homebrew/anaconda3/envs/vidhya-agents/lib/python3.11/site-packages (from langchain-openai) (0.7.0)\n",
      "Requirement already satisfied: jsonpatch<2.0,>=1.33 in /opt/homebrew/anaconda3/envs/vidhya-agents/lib/python3.11/site-packages (from langchain-core) (1.33)\n",
      "Requirement already satisfied: packaging<25,>=23.2 in /opt/homebrew/anaconda3/envs/vidhya-agents/lib/python3.11/site-packages (from langchain-core) (24.1)\n",
      "Requirement already satisfied: typing-extensions>=4.7 in /opt/homebrew/anaconda3/envs/vidhya-agents/lib/python3.11/site-packages (from langchain-core) (4.12.2)\n",
      "Requirement already satisfied: aiohappyeyeballs>=2.3.0 in /opt/homebrew/anaconda3/envs/vidhya-agents/lib/python3.11/site-packages (from aiohttp<4.0.0,>=3.8.3->langchain) (2.4.0)\n",
      "Requirement already satisfied: aiosignal>=1.1.2 in /opt/homebrew/anaconda3/envs/vidhya-agents/lib/python3.11/site-packages (from aiohttp<4.0.0,>=3.8.3->langchain) (1.3.1)\n",
      "Requirement already satisfied: attrs>=17.3.0 in /opt/homebrew/anaconda3/envs/vidhya-agents/lib/python3.11/site-packages (from aiohttp<4.0.0,>=3.8.3->langchain) (24.2.0)\n",
      "Requirement already satisfied: frozenlist>=1.1.1 in /opt/homebrew/anaconda3/envs/vidhya-agents/lib/python3.11/site-packages (from aiohttp<4.0.0,>=3.8.3->langchain) (1.4.1)\n",
      "Requirement already satisfied: multidict<7.0,>=4.5 in /opt/homebrew/anaconda3/envs/vidhya-agents/lib/python3.11/site-packages (from aiohttp<4.0.0,>=3.8.3->langchain) (6.0.5)\n",
      "Requirement already satisfied: yarl<2.0,>=1.0 in /opt/homebrew/anaconda3/envs/vidhya-agents/lib/python3.11/site-packages (from aiohttp<4.0.0,>=3.8.3->langchain) (1.9.7)\n",
      "Requirement already satisfied: jsonpointer>=1.9 in /opt/homebrew/anaconda3/envs/vidhya-agents/lib/python3.11/site-packages (from jsonpatch<2.0,>=1.33->langchain-core) (3.0.0)\n",
      "Requirement already satisfied: httpx<1,>=0.23.0 in /opt/homebrew/anaconda3/envs/vidhya-agents/lib/python3.11/site-packages (from langsmith<0.3,>=0.1.17->langchain) (0.27.2)\n",
      "Requirement already satisfied: orjson<4.0.0,>=3.9.14 in /opt/homebrew/anaconda3/envs/vidhya-agents/lib/python3.11/site-packages (from langsmith<0.3,>=0.1.17->langchain) (3.10.7)\n",
      "Requirement already satisfied: requests-toolbelt<2.0.0,>=1.0.0 in /opt/homebrew/anaconda3/envs/vidhya-agents/lib/python3.11/site-packages (from langsmith<0.3,>=0.1.17->langchain) (1.0.0)\n",
      "Requirement already satisfied: anyio<5,>=3.5.0 in /opt/homebrew/anaconda3/envs/vidhya-agents/lib/python3.11/site-packages (from openai<2.0.0,>=1.55.3->langchain-openai) (4.4.0)\n",
      "Requirement already satisfied: distro<2,>=1.7.0 in /opt/homebrew/anaconda3/envs/vidhya-agents/lib/python3.11/site-packages (from openai<2.0.0,>=1.55.3->langchain-openai) (1.9.0)\n",
      "Requirement already satisfied: jiter<1,>=0.4.0 in /opt/homebrew/anaconda3/envs/vidhya-agents/lib/python3.11/site-packages (from openai<2.0.0,>=1.55.3->langchain-openai) (0.5.0)\n",
      "Requirement already satisfied: sniffio in /opt/homebrew/anaconda3/envs/vidhya-agents/lib/python3.11/site-packages (from openai<2.0.0,>=1.55.3->langchain-openai) (1.3.1)\n",
      "Requirement already satisfied: tqdm>4 in /opt/homebrew/anaconda3/envs/vidhya-agents/lib/python3.11/site-packages (from openai<2.0.0,>=1.55.3->langchain-openai) (4.66.5)\n",
      "Requirement already satisfied: annotated-types>=0.4.0 in /opt/homebrew/anaconda3/envs/vidhya-agents/lib/python3.11/site-packages (from pydantic<3.0.0,>=2.7.4->langchain) (0.7.0)\n",
      "Requirement already satisfied: pydantic-core==2.20.1 in /opt/homebrew/anaconda3/envs/vidhya-agents/lib/python3.11/site-packages (from pydantic<3.0.0,>=2.7.4->langchain) (2.20.1)\n",
      "Requirement already satisfied: charset-normalizer<4,>=2 in /opt/homebrew/anaconda3/envs/vidhya-agents/lib/python3.11/site-packages (from requests<3,>=2->langchain) (3.3.2)\n",
      "Requirement already satisfied: idna<4,>=2.5 in /opt/homebrew/anaconda3/envs/vidhya-agents/lib/python3.11/site-packages (from requests<3,>=2->langchain) (3.8)\n",
      "Requirement already satisfied: urllib3<3,>=1.21.1 in /opt/homebrew/anaconda3/envs/vidhya-agents/lib/python3.11/site-packages (from requests<3,>=2->langchain) (2.2.2)\n",
      "Requirement already satisfied: certifi>=2017.4.17 in /opt/homebrew/anaconda3/envs/vidhya-agents/lib/python3.11/site-packages (from requests<3,>=2->langchain) (2024.8.30)\n",
      "Requirement already satisfied: regex>=2022.1.18 in /opt/homebrew/anaconda3/envs/vidhya-agents/lib/python3.11/site-packages (from tiktoken<1,>=0.7->langchain-openai) (2024.7.24)\n",
      "Requirement already satisfied: httpcore==1.* in /opt/homebrew/anaconda3/envs/vidhya-agents/lib/python3.11/site-packages (from httpx<1,>=0.23.0->langsmith<0.3,>=0.1.17->langchain) (1.0.5)\n",
      "Requirement already satisfied: h11<0.15,>=0.13 in /opt/homebrew/anaconda3/envs/vidhya-agents/lib/python3.11/site-packages (from httpcore==1.*->httpx<1,>=0.23.0->langsmith<0.3,>=0.1.17->langchain) (0.14.0)\n"
     ]
    }
   ],
   "source": [
    "!pip install -U langchain langchain-openai langchain-core"
   ]
  },
  {
   "cell_type": "code",
   "execution_count": 2,
   "metadata": {},
   "outputs": [
    {
     "name": "stdout",
     "output_type": "stream",
     "text": [
      "Requirement already satisfied: langchain_openai in /opt/homebrew/anaconda3/envs/vidhya-agents/lib/python3.11/site-packages (0.2.13)\n",
      "Requirement already satisfied: langchain-core<0.4.0,>=0.3.27 in /opt/homebrew/anaconda3/envs/vidhya-agents/lib/python3.11/site-packages (from langchain_openai) (0.3.27)\n",
      "Requirement already satisfied: openai<2.0.0,>=1.55.3 in /opt/homebrew/anaconda3/envs/vidhya-agents/lib/python3.11/site-packages (from langchain_openai) (1.58.1)\n",
      "Requirement already satisfied: tiktoken<1,>=0.7 in /opt/homebrew/anaconda3/envs/vidhya-agents/lib/python3.11/site-packages (from langchain_openai) (0.7.0)\n",
      "Requirement already satisfied: PyYAML>=5.3 in /opt/homebrew/anaconda3/envs/vidhya-agents/lib/python3.11/site-packages (from langchain-core<0.4.0,>=0.3.27->langchain_openai) (6.0.2)\n",
      "Requirement already satisfied: jsonpatch<2.0,>=1.33 in /opt/homebrew/anaconda3/envs/vidhya-agents/lib/python3.11/site-packages (from langchain-core<0.4.0,>=0.3.27->langchain_openai) (1.33)\n",
      "Requirement already satisfied: langsmith<0.3,>=0.1.125 in /opt/homebrew/anaconda3/envs/vidhya-agents/lib/python3.11/site-packages (from langchain-core<0.4.0,>=0.3.27->langchain_openai) (0.2.4)\n",
      "Requirement already satisfied: packaging<25,>=23.2 in /opt/homebrew/anaconda3/envs/vidhya-agents/lib/python3.11/site-packages (from langchain-core<0.4.0,>=0.3.27->langchain_openai) (24.1)\n",
      "Requirement already satisfied: pydantic<3.0.0,>=2.5.2 in /opt/homebrew/anaconda3/envs/vidhya-agents/lib/python3.11/site-packages (from langchain-core<0.4.0,>=0.3.27->langchain_openai) (2.8.2)\n",
      "Requirement already satisfied: tenacity!=8.4.0,<10.0.0,>=8.1.0 in /opt/homebrew/anaconda3/envs/vidhya-agents/lib/python3.11/site-packages (from langchain-core<0.4.0,>=0.3.27->langchain_openai) (8.5.0)\n",
      "Requirement already satisfied: typing-extensions>=4.7 in /opt/homebrew/anaconda3/envs/vidhya-agents/lib/python3.11/site-packages (from langchain-core<0.4.0,>=0.3.27->langchain_openai) (4.12.2)\n",
      "Requirement already satisfied: anyio<5,>=3.5.0 in /opt/homebrew/anaconda3/envs/vidhya-agents/lib/python3.11/site-packages (from openai<2.0.0,>=1.55.3->langchain_openai) (4.4.0)\n",
      "Requirement already satisfied: distro<2,>=1.7.0 in /opt/homebrew/anaconda3/envs/vidhya-agents/lib/python3.11/site-packages (from openai<2.0.0,>=1.55.3->langchain_openai) (1.9.0)\n",
      "Requirement already satisfied: httpx<1,>=0.23.0 in /opt/homebrew/anaconda3/envs/vidhya-agents/lib/python3.11/site-packages (from openai<2.0.0,>=1.55.3->langchain_openai) (0.27.2)\n",
      "Requirement already satisfied: jiter<1,>=0.4.0 in /opt/homebrew/anaconda3/envs/vidhya-agents/lib/python3.11/site-packages (from openai<2.0.0,>=1.55.3->langchain_openai) (0.5.0)\n",
      "Requirement already satisfied: sniffio in /opt/homebrew/anaconda3/envs/vidhya-agents/lib/python3.11/site-packages (from openai<2.0.0,>=1.55.3->langchain_openai) (1.3.1)\n",
      "Requirement already satisfied: tqdm>4 in /opt/homebrew/anaconda3/envs/vidhya-agents/lib/python3.11/site-packages (from openai<2.0.0,>=1.55.3->langchain_openai) (4.66.5)\n",
      "Requirement already satisfied: regex>=2022.1.18 in /opt/homebrew/anaconda3/envs/vidhya-agents/lib/python3.11/site-packages (from tiktoken<1,>=0.7->langchain_openai) (2024.7.24)\n",
      "Requirement already satisfied: requests>=2.26.0 in /opt/homebrew/anaconda3/envs/vidhya-agents/lib/python3.11/site-packages (from tiktoken<1,>=0.7->langchain_openai) (2.32.3)\n",
      "Requirement already satisfied: idna>=2.8 in /opt/homebrew/anaconda3/envs/vidhya-agents/lib/python3.11/site-packages (from anyio<5,>=3.5.0->openai<2.0.0,>=1.55.3->langchain_openai) (3.8)\n",
      "Requirement already satisfied: certifi in /opt/homebrew/anaconda3/envs/vidhya-agents/lib/python3.11/site-packages (from httpx<1,>=0.23.0->openai<2.0.0,>=1.55.3->langchain_openai) (2024.8.30)\n",
      "Requirement already satisfied: httpcore==1.* in /opt/homebrew/anaconda3/envs/vidhya-agents/lib/python3.11/site-packages (from httpx<1,>=0.23.0->openai<2.0.0,>=1.55.3->langchain_openai) (1.0.5)\n",
      "Requirement already satisfied: h11<0.15,>=0.13 in /opt/homebrew/anaconda3/envs/vidhya-agents/lib/python3.11/site-packages (from httpcore==1.*->httpx<1,>=0.23.0->openai<2.0.0,>=1.55.3->langchain_openai) (0.14.0)\n",
      "Requirement already satisfied: jsonpointer>=1.9 in /opt/homebrew/anaconda3/envs/vidhya-agents/lib/python3.11/site-packages (from jsonpatch<2.0,>=1.33->langchain-core<0.4.0,>=0.3.27->langchain_openai) (3.0.0)\n",
      "Requirement already satisfied: orjson<4.0.0,>=3.9.14 in /opt/homebrew/anaconda3/envs/vidhya-agents/lib/python3.11/site-packages (from langsmith<0.3,>=0.1.125->langchain-core<0.4.0,>=0.3.27->langchain_openai) (3.10.7)\n",
      "Requirement already satisfied: requests-toolbelt<2.0.0,>=1.0.0 in /opt/homebrew/anaconda3/envs/vidhya-agents/lib/python3.11/site-packages (from langsmith<0.3,>=0.1.125->langchain-core<0.4.0,>=0.3.27->langchain_openai) (1.0.0)\n",
      "Requirement already satisfied: annotated-types>=0.4.0 in /opt/homebrew/anaconda3/envs/vidhya-agents/lib/python3.11/site-packages (from pydantic<3.0.0,>=2.5.2->langchain-core<0.4.0,>=0.3.27->langchain_openai) (0.7.0)\n",
      "Requirement already satisfied: pydantic-core==2.20.1 in /opt/homebrew/anaconda3/envs/vidhya-agents/lib/python3.11/site-packages (from pydantic<3.0.0,>=2.5.2->langchain-core<0.4.0,>=0.3.27->langchain_openai) (2.20.1)\n",
      "Requirement already satisfied: charset-normalizer<4,>=2 in /opt/homebrew/anaconda3/envs/vidhya-agents/lib/python3.11/site-packages (from requests>=2.26.0->tiktoken<1,>=0.7->langchain_openai) (3.3.2)\n",
      "Requirement already satisfied: urllib3<3,>=1.21.1 in /opt/homebrew/anaconda3/envs/vidhya-agents/lib/python3.11/site-packages (from requests>=2.26.0->tiktoken<1,>=0.7->langchain_openai) (2.2.2)\n"
     ]
    }
   ],
   "source": [
    "!pip install langchain_openai"
   ]
  },
  {
   "cell_type": "code",
   "execution_count": 3,
   "metadata": {},
   "outputs": [
    {
     "name": "stdout",
     "output_type": "stream",
     "text": [
      "/opt/homebrew/anaconda3/envs/vidhya-agents/bin/python\n"
     ]
    }
   ],
   "source": [
    "import sys\n",
    "print(sys.executable)"
   ]
  },
  {
   "cell_type": "code",
   "execution_count": 4,
   "metadata": {},
   "outputs": [
    {
     "name": "stdout",
     "output_type": "stream",
     "text": [
      "Requirement already satisfied: ipykernel in /opt/homebrew/anaconda3/envs/vidhya-agents/lib/python3.11/site-packages (6.29.5)\n",
      "Requirement already satisfied: appnope in /opt/homebrew/anaconda3/envs/vidhya-agents/lib/python3.11/site-packages (from ipykernel) (0.1.4)\n",
      "Requirement already satisfied: comm>=0.1.1 in /opt/homebrew/anaconda3/envs/vidhya-agents/lib/python3.11/site-packages (from ipykernel) (0.2.2)\n",
      "Requirement already satisfied: debugpy>=1.6.5 in /opt/homebrew/anaconda3/envs/vidhya-agents/lib/python3.11/site-packages (from ipykernel) (1.8.5)\n",
      "Requirement already satisfied: ipython>=7.23.1 in /opt/homebrew/anaconda3/envs/vidhya-agents/lib/python3.11/site-packages (from ipykernel) (8.27.0)\n",
      "Requirement already satisfied: jupyter-client>=6.1.12 in /opt/homebrew/anaconda3/envs/vidhya-agents/lib/python3.11/site-packages (from ipykernel) (8.6.2)\n",
      "Requirement already satisfied: jupyter-core!=5.0.*,>=4.12 in /opt/homebrew/anaconda3/envs/vidhya-agents/lib/python3.11/site-packages (from ipykernel) (5.7.2)\n",
      "Requirement already satisfied: matplotlib-inline>=0.1 in /opt/homebrew/anaconda3/envs/vidhya-agents/lib/python3.11/site-packages (from ipykernel) (0.1.7)\n",
      "Requirement already satisfied: nest-asyncio in /opt/homebrew/anaconda3/envs/vidhya-agents/lib/python3.11/site-packages (from ipykernel) (1.6.0)\n",
      "Requirement already satisfied: packaging in /opt/homebrew/anaconda3/envs/vidhya-agents/lib/python3.11/site-packages (from ipykernel) (24.1)\n",
      "Requirement already satisfied: psutil in /opt/homebrew/anaconda3/envs/vidhya-agents/lib/python3.11/site-packages (from ipykernel) (6.0.0)\n",
      "Requirement already satisfied: pyzmq>=24 in /opt/homebrew/anaconda3/envs/vidhya-agents/lib/python3.11/site-packages (from ipykernel) (26.2.0)\n",
      "Requirement already satisfied: tornado>=6.1 in /opt/homebrew/anaconda3/envs/vidhya-agents/lib/python3.11/site-packages (from ipykernel) (6.4.1)\n",
      "Requirement already satisfied: traitlets>=5.4.0 in /opt/homebrew/anaconda3/envs/vidhya-agents/lib/python3.11/site-packages (from ipykernel) (5.14.3)\n",
      "Requirement already satisfied: decorator in /opt/homebrew/anaconda3/envs/vidhya-agents/lib/python3.11/site-packages (from ipython>=7.23.1->ipykernel) (5.1.1)\n",
      "Requirement already satisfied: jedi>=0.16 in /opt/homebrew/anaconda3/envs/vidhya-agents/lib/python3.11/site-packages (from ipython>=7.23.1->ipykernel) (0.19.1)\n",
      "Requirement already satisfied: prompt-toolkit<3.1.0,>=3.0.41 in /opt/homebrew/anaconda3/envs/vidhya-agents/lib/python3.11/site-packages (from ipython>=7.23.1->ipykernel) (3.0.47)\n",
      "Requirement already satisfied: pygments>=2.4.0 in /opt/homebrew/anaconda3/envs/vidhya-agents/lib/python3.11/site-packages (from ipython>=7.23.1->ipykernel) (2.18.0)\n",
      "Requirement already satisfied: stack-data in /opt/homebrew/anaconda3/envs/vidhya-agents/lib/python3.11/site-packages (from ipython>=7.23.1->ipykernel) (0.6.3)\n",
      "Requirement already satisfied: typing-extensions>=4.6 in /opt/homebrew/anaconda3/envs/vidhya-agents/lib/python3.11/site-packages (from ipython>=7.23.1->ipykernel) (4.12.2)\n",
      "Requirement already satisfied: pexpect>4.3 in /opt/homebrew/anaconda3/envs/vidhya-agents/lib/python3.11/site-packages (from ipython>=7.23.1->ipykernel) (4.9.0)\n",
      "Requirement already satisfied: python-dateutil>=2.8.2 in /opt/homebrew/anaconda3/envs/vidhya-agents/lib/python3.11/site-packages (from jupyter-client>=6.1.12->ipykernel) (2.9.0.post0)\n",
      "Requirement already satisfied: platformdirs>=2.5 in /opt/homebrew/anaconda3/envs/vidhya-agents/lib/python3.11/site-packages (from jupyter-core!=5.0.*,>=4.12->ipykernel) (4.2.2)\n",
      "Requirement already satisfied: parso<0.9.0,>=0.8.3 in /opt/homebrew/anaconda3/envs/vidhya-agents/lib/python3.11/site-packages (from jedi>=0.16->ipython>=7.23.1->ipykernel) (0.8.4)\n",
      "Requirement already satisfied: ptyprocess>=0.5 in /opt/homebrew/anaconda3/envs/vidhya-agents/lib/python3.11/site-packages (from pexpect>4.3->ipython>=7.23.1->ipykernel) (0.7.0)\n",
      "Requirement already satisfied: wcwidth in /opt/homebrew/anaconda3/envs/vidhya-agents/lib/python3.11/site-packages (from prompt-toolkit<3.1.0,>=3.0.41->ipython>=7.23.1->ipykernel) (0.2.13)\n",
      "Requirement already satisfied: six>=1.5 in /opt/homebrew/anaconda3/envs/vidhya-agents/lib/python3.11/site-packages (from python-dateutil>=2.8.2->jupyter-client>=6.1.12->ipykernel) (1.16.0)\n",
      "Requirement already satisfied: executing>=1.2.0 in /opt/homebrew/anaconda3/envs/vidhya-agents/lib/python3.11/site-packages (from stack-data->ipython>=7.23.1->ipykernel) (2.1.0)\n",
      "Requirement already satisfied: asttokens>=2.1.0 in /opt/homebrew/anaconda3/envs/vidhya-agents/lib/python3.11/site-packages (from stack-data->ipython>=7.23.1->ipykernel) (2.4.1)\n",
      "Requirement already satisfied: pure-eval in /opt/homebrew/anaconda3/envs/vidhya-agents/lib/python3.11/site-packages (from stack-data->ipython>=7.23.1->ipykernel) (0.2.3)\n"
     ]
    }
   ],
   "source": [
    "!pip install ipykernel"
   ]
  },
  {
   "cell_type": "code",
   "execution_count": 5,
   "metadata": {},
   "outputs": [
    {
     "name": "stdout",
     "output_type": "stream",
     "text": [
      "Requirement already satisfied: python-dotenv in /opt/homebrew/anaconda3/envs/vidhya-agents/lib/python3.11/site-packages (1.0.1)\n"
     ]
    }
   ],
   "source": [
    "!pip install python-dotenv"
   ]
  },
  {
   "cell_type": "code",
   "execution_count": 7,
   "metadata": {},
   "outputs": [],
   "source": [
    "import os\n",
    "from dotenv import load_dotenv\n",
    "\n",
    "# Load environment variables from .env file\n",
    "load_dotenv('/Users/jasper/Downloads/My_first_agents-main/notebooks/.env')\n",
    "\n",
    "# Verify that the API key is loaded\n",
    "api_key = os.getenv('OPENAI_API_KEY')"
   ]
  },
  {
   "cell_type": "code",
   "execution_count": 8,
   "metadata": {},
   "outputs": [],
   "source": [
    "from langchain_openai import ChatOpenAI\n",
    "from langchain_core.prompts import ChatPromptTemplate\n",
    "from langchain_core.output_parsers import StrOutputParser\n",
    "from IPython.display import Markdown"
   ]
  },
  {
   "cell_type": "code",
   "execution_count": 11,
   "metadata": {},
   "outputs": [],
   "source": [
    "WRITER_SYS_MSG = \"\"\"\n",
    "You are a research assistant and a scientific writer.\n",
    "You take in requests about tpics and write organized research reprts on those topics.\n",
    "\"\"\"\n",
    "\n",
    "prompt = ChatPromptTemplate.from_messages([\n",
    "    ('system', WRITER_SYS_MSG),\n",
    "    ('human', 'Write an organized research report about this topic:\\n\\n{topic}.')\n",
    "])\n",
    "\n",
    "llm = ChatOpenAI(model='gpt-4o-mini', temperature=0)\n",
    "\n",
    "output_parser = StrOutputParser()\n",
    "\n",
    "writer_chain = prompt | llm | output_parser"
   ]
  },
  {
   "cell_type": "code",
   "execution_count": 12,
   "metadata": {},
   "outputs": [],
   "source": [
    "REVIEWER_SYS_MSG = \"\"\"\n",
    "You are a reviewer for research reports. You take in research reports and provide feecback on them.\n",
    "\"\"\"\n",
    "\n",
    "prompt_reviewer = ChatPromptTemplate.from_messages([\n",
    "    ('system', REVIEWER_SYS_MSG),\n",
    "    ('human', 'Provide feedback on this research report:\\n\\n{report}. As 5 concise bullet points.')\n",
    "])\n",
    "\n",
    "llm_reviewer = ChatOpenAI(model='gpt-4o-mini', temperature=0.2)\n",
    "\n",
    "review_chain = prompt_reviewer | llm_reviewer | output_parser"
   ]
  },
  {
   "cell_type": "code",
   "execution_count": 13,
   "metadata": {},
   "outputs": [],
   "source": [
    "FINAL_WRITER_SYS_MSG = \"\"\"\n",
    "You take in a research report and a set of bullet points with feedback to improve,\n",
    "and you revise the research report based on the feedback and write a final version.\n",
    "\"\"\"\n",
    "\n",
    "prompt_final_writer = ChatPromptTemplate.from_messages(\n",
    "    [\n",
    "        ('system', FINAL_WRITER_SYS_MSG),\n",
    "        ('human', 'Write a reviewed and improved version of this research report:\\n\\n{report}, based on this feedback:\\n\\n{feedback}.')\n",
    "    ]\n",
    ")\n",
    "llm_final_writer = ChatOpenAI(model='gpt-4o-mini', temperature=0.2)\n",
    "chain_final_writer = prompt_final_writer | llm_final_writer | output_parser"
   ]
  },
  {
   "cell_type": "code",
   "execution_count": 14,
   "metadata": {},
   "outputs": [
    {
     "data": {
      "text/plain": [
       "langchain_core.runnables.base.RunnableSequence"
      ]
     },
     "execution_count": 14,
     "metadata": {},
     "output_type": "execute_result"
    }
   ],
   "source": [
    "type(writer_chain)"
   ]
  },
  {
   "cell_type": "code",
   "execution_count": 15,
   "metadata": {},
   "outputs": [
    {
     "data": {
      "text/plain": [
       "langchain_core.runnables.base.RunnableSequence"
      ]
     },
     "execution_count": 15,
     "metadata": {},
     "output_type": "execute_result"
    }
   ],
   "source": [
    "type(review_chain)"
   ]
  },
  {
   "cell_type": "code",
   "execution_count": 16,
   "metadata": {},
   "outputs": [
    {
     "data": {
      "text/plain": [
       "langchain_core.runnables.base.RunnableSequence"
      ]
     },
     "execution_count": 16,
     "metadata": {},
     "output_type": "execute_result"
    }
   ],
   "source": [
    "type(chain_final_writer)"
   ]
  },
  {
   "cell_type": "markdown",
   "metadata": {},
   "source": [
    "What is a runnable sequence?"
   ]
  },
  {
   "cell_type": "code",
   "execution_count": 17,
   "metadata": {},
   "outputs": [],
   "source": [
    "from langchain_core.runnables import RunnableSequence, RunnableLambda"
   ]
  },
  {
   "cell_type": "code",
   "execution_count": 18,
   "metadata": {},
   "outputs": [
    {
     "data": {
      "text/plain": [
       "16"
      ]
     },
     "execution_count": 18,
     "metadata": {},
     "output_type": "execute_result"
    }
   ],
   "source": [
    "# What is a RunnableSequence?\n",
    "# A sequence of Runnables\n",
    "# What is a Runnable?\n",
    "# Something you can run. Object with standard methods like, invoke, batch, etc...\n",
    "# You can compose these objects together to create a pipeline of operations.\n",
    "\n",
    "def sum_x_to_x(x: int) -> int:\n",
    "    return x + x # 2+2= 4\n",
    "\n",
    "def multiply_x_by_x(x: int) -> int:\n",
    "    return x * x # 4*4 = 16\n",
    "\n",
    "\n",
    "runnable_1 = RunnableLambda(sum_x_to_x)\n",
    "runnable_2 = RunnableLambda(multiply_x_by_x)\n",
    "\n",
    "runnable_sequence = RunnableSequence(first=runnable_1, last=runnable_2)\n",
    "\n",
    "runnable_sequence.invoke(2)"
   ]
  },
  {
   "cell_type": "code",
   "execution_count": 10,
   "metadata": {},
   "outputs": [],
   "source": [
    "# writer_chain + review_chain + final_writer_chain"
   ]
  },
  {
   "cell_type": "code",
   "execution_count": 11,
   "metadata": {},
   "outputs": [],
   "source": [
    "from langchain_core.runnables import RunnablePassthrough"
   ]
  },
  {
   "cell_type": "code",
   "execution_count": 12,
   "metadata": {},
   "outputs": [
    {
     "data": {
      "text/markdown": [
       "# Research Report: Using AI for Personal Productivity\n",
       "\n",
       "## Abstract\n",
       "The integration of Artificial Intelligence (AI) into personal productivity tools has significantly transformed how individuals manage their time, tasks, and overall efficiency. This report explores various applications of AI in enhancing personal productivity, the benefits and challenges associated with its use, and future trends in this rapidly evolving field. By providing a balanced perspective and incorporating recent developments, this report aims to offer a comprehensive understanding of AI's role in personal productivity.\n",
       "\n",
       "## 1. Introduction\n",
       "Personal productivity refers to an individual's ability to manage time and resources effectively to achieve their goals. With the advent of AI technologies, there has been a notable shift in productivity approaches. AI tools can automate mundane tasks, provide insights through data analysis, and enhance decision-making processes, allowing individuals to focus on more strategic activities. This report delves into the multifaceted applications of AI in personal productivity, highlighting both its advantages and potential drawbacks.\n",
       "\n",
       "## 2. Applications of AI in Personal Productivity\n",
       "\n",
       "### 2.1 Task Management\n",
       "AI-powered task management applications, such as Todoist and Trello, utilize algorithms to prioritize tasks based on deadlines, importance, and user behavior. These tools can suggest optimal schedules and remind users of upcoming deadlines, streamlining workflow. For instance, Todoist's Smart Schedule feature intelligently suggests the best times to complete tasks based on user habits.\n",
       "\n",
       "### 2.2 Time Management\n",
       "AI tools like Clockify and RescueTime analyze how users spend their time, providing insights into productivity patterns. By identifying time-wasting activities, these applications help users allocate their time more effectively. Recent updates in RescueTime now include AI-driven insights that suggest personalized productivity strategies based on user data.\n",
       "\n",
       "### 2.3 Virtual Assistants\n",
       "AI-driven virtual assistants, such as Google Assistant, Siri, and Alexa, manage calendars, set reminders, and answer queries, allowing users to multitask and stay organized without manual input. These assistants are increasingly integrating with other productivity tools, enhancing their utility in daily tasks.\n",
       "\n",
       "### 2.4 Email Management\n",
       "AI tools like SaneBox and Google's Smart Compose leverage machine learning to filter emails, prioritize important messages, and even draft responses, significantly reducing the time spent on email management. For example, SaneBox's AI categorizes emails into different folders, allowing users to focus on what matters most.\n",
       "\n",
       "### 2.5 Focus and Motivation\n",
       "AI applications like Focus@Will and Brain.fm use algorithms to create personalized music playlists designed to enhance concentration and productivity. These tools adapt to user preferences and work patterns, optimizing focus through tailored auditory experiences.\n",
       "\n",
       "## 3. Benefits of Using AI for Personal Productivity\n",
       "\n",
       "### 3.1 Increased Efficiency\n",
       "AI tools automate repetitive tasks, allowing individuals to concentrate on higher-value activities. This leads to improved efficiency and productivity, as users can accomplish more in less time.\n",
       "\n",
       "### 3.2 Enhanced Decision-Making\n",
       "AI can analyze vast amounts of data quickly, providing users with insights that inform better decision-making. This capability is particularly useful in project management and strategic planning, where timely and informed decisions are crucial.\n",
       "\n",
       "### 3.3 Personalization\n",
       "AI applications learn from user behavior and preferences, offering personalized recommendations that align with individual productivity styles. This customization enhances user engagement and satisfaction.\n",
       "\n",
       "### 3.4 Reduced Cognitive Load\n",
       "By automating routine tasks and providing reminders, AI reduces the cognitive load on individuals, allowing them to focus on more complex and creative tasks.\n",
       "\n",
       "## 4. Challenges of Using AI for Personal Productivity\n",
       "\n",
       "### 4.1 Dependence on Technology\n",
       "Over-reliance on AI tools can lead to a decrease in critical thinking and problem-solving skills, as individuals may become accustomed to relying on technology for decision-making.\n",
       "\n",
       "### 4.2 Privacy Concerns\n",
       "The use of AI often involves data collection, raising concerns about privacy and data security. Users must be cautious about the information they share with AI applications, particularly in light of recent data breaches in the tech industry.\n",
       "\n",
       "### 4.3 Integration Issues\n",
       "Many individuals use multiple productivity tools, and integrating these systems can be challenging. Lack of interoperability may hinder the effectiveness of AI solutions, necessitating the development of more cohesive platforms.\n",
       "\n",
       "### 4.4 Learning Curve\n",
       "Some AI tools may have a steep learning curve, requiring time and effort to master their functionalities, which can initially detract from productivity.\n",
       "\n",
       "## 5. Future Trends in AI and Personal Productivity\n",
       "\n",
       "### 5.1 Increased Automation\n",
       "As AI technology continues to advance, we can expect even greater levels of automation in personal productivity tools, further reducing the need for manual input. For example, AI-driven scheduling assistants are already beginning to autonomously manage calendars based on user preferences.\n",
       "\n",
       "### 5.2 Enhanced Collaboration Tools\n",
       "AI will likely play a significant role in improving collaboration tools, enabling teams to work more efficiently together, regardless of location. Tools like Microsoft Teams are already integrating AI features to enhance communication and project management.\n",
       "\n",
       "### 5.3 Emotional Intelligence in AI\n",
       "Future AI applications may incorporate emotional intelligence, allowing them to better understand user emotions and adapt their functionalities accordingly to enhance motivation and productivity. This could lead to more empathetic AI interactions that cater to user needs.\n",
       "\n",
       "### 5.4 Integration of AI with Wearable Technology\n",
       "The integration of AI with wearable devices could provide real-time feedback on productivity levels, health metrics, and stress management, creating a holistic approach to personal productivity. For instance, smartwatches could analyze user activity and suggest breaks or focus sessions based on physiological data.\n",
       "\n",
       "## 6. Conclusion\n",
       "The use of AI in personal productivity presents numerous opportunities for individuals to enhance their efficiency and effectiveness. While challenges such as dependence on technology and privacy concerns must be addressed, the benefits of AI tools in task management, time management, and overall productivity are significant. As technology continues to evolve, the potential for AI to further transform personal productivity is immense, paving the way for a more efficient and organized future.\n",
       "\n",
       "## References\n",
       "- Daugherty, P. R., & Wilson, H. J. (2018). *Human + Machine: Reimagining Work in the Age of AI*. Harvard Business Review Press.\n",
       "- McKinsey Global Institute. (2021). *The Future of Work: Reskilling and Remote Work*. McKinsey & Company.\n",
       "- Ransbotham, S., Mitra, S., & Lurie, N. H. (2020). The Role of AI in Personal Productivity: A Review and Future Directions. *Journal of Business Research*, 116, 1-10.\n",
       "- Smith, J. (2022). AI in Productivity: Trends and Innovations. *Journal of Technology and Productivity*, 34(2), 45-60.\n",
       "- Johnson, L. (2023). The Impact of AI on Workplace Efficiency. *International Journal of Business Management*, 29(1), 12-25."
      ],
      "text/plain": [
       "<IPython.core.display.Markdown object>"
      ]
     },
     "execution_count": 12,
     "metadata": {},
     "output_type": "execute_result"
    }
   ],
   "source": [
    "composed_chain = {'report': writer_chain} | RunnablePassthrough().assign(feedback=review_chain) | chain_final_writer\n",
    "\n",
    "output_final_report = composed_chain.invoke({'topic': 'Using AI for personal productivity.'})\n",
    "\n",
    "Markdown(output_final_report)"
   ]
  },
  {
   "cell_type": "code",
   "execution_count": null,
   "metadata": {},
   "outputs": [],
   "source": []
  },
  {
   "cell_type": "code",
   "execution_count": null,
   "metadata": {},
   "outputs": [],
   "source": []
  },
  {
   "cell_type": "markdown",
   "metadata": {},
   "source": [
    "Is there a runnable to help me assign keys that route inputs and outputs for these intermediary\n",
    "artifacts that I am generating within my big chain?"
   ]
  },
  {
   "cell_type": "code",
   "execution_count": null,
   "metadata": {},
   "outputs": [],
   "source": []
  },
  {
   "cell_type": "code",
   "execution_count": null,
   "metadata": {},
   "outputs": [],
   "source": []
  }
 ],
 "metadata": {
  "kernelspec": {
   "display_name": "vidhya-agents",
   "language": "python",
   "name": "python3"
  },
  "language_info": {
   "codemirror_mode": {
    "name": "ipython",
    "version": 3
   },
   "file_extension": ".py",
   "mimetype": "text/x-python",
   "name": "python",
   "nbconvert_exporter": "python",
   "pygments_lexer": "ipython3",
   "version": "3.11.11"
  }
 },
 "nbformat": 4,
 "nbformat_minor": 2
}
